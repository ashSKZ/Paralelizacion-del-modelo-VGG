{
  "cells": [
    {
      "cell_type": "markdown",
      "metadata": {
        "id": "F_ZH921gA3pF"
      },
      "source": [
        "# Ingesta y distribución de datos"
      ]
    },
    {
      "cell_type": "markdown",
      "metadata": {
        "id": "958R5JusBTYO"
      },
      "source": [
        "### Librerías"
      ]
    },
    {
      "cell_type": "code",
      "execution_count": 5,
      "metadata": {
        "id": "xQMyzIijBEF1"
      },
      "outputs": [],
      "source": [
        "import tensorflow_datasets as tfds\n",
        "import multiprocessing"
      ]
    },
    {
      "cell_type": "markdown",
      "metadata": {
        "id": "kmQoKKifDSMa"
      },
      "source": [
        "### Cargar el dataset *tf_flowers*\n",
        "  - as_supervised=True devuelve tuplas (imagen, etiqueta)\n",
        "  - with_info=True trae metadatos como número de ejemplos"
      ]
    },
    {
      "cell_type": "code",
      "execution_count": 6,
      "metadata": {
        "id": "g77KuHhgDZpR"
      },
      "outputs": [],
      "source": [
        "ds, ds_info = tfds.load(\n",
        "    'tf_flowers',\n",
        "    split='train',\n",
        "    with_info=True,\n",
        "    as_supervised=True\n",
        ")\n"
      ]
    },
    {
      "cell_type": "markdown",
      "metadata": {
        "id": "6qwLcnxeEFou"
      },
      "source": [
        "### Extraer la lista de tensores de imagen (y etiquetas, si las necesitas)\n",
        "Convierte el tf.data.Dataset a un iterador de numpy"
      ]
    },
    {
      "cell_type": "code",
      "execution_count": 7,
      "metadata": {
        "id": "fTFfzmxgEMGc"
      },
      "outputs": [],
      "source": [
        "images = []\n",
        "labels = []\n",
        "for img, lbl in tfds.as_numpy(ds):\n",
        "    images.append(img)     # cada img es un ndarray de forma (alto, ancho, 3)\n",
        "    labels.append(lbl)     # etiquetas"
      ]
    },
    {
      "cell_type": "markdown",
      "metadata": {
        "id": "0aNFdJTzEiFe"
      },
      "source": [
        "### Dividir la lista entre procesos para balancear carga"
      ]
    },
    {
      "cell_type": "code",
      "execution_count": 8,
      "metadata": {
        "id": "MKqPCfUlEmlc"
      },
      "outputs": [],
      "source": [
        "n_workers = multiprocessing.cpu_count() - 1"
      ]
    },
    {
      "cell_type": "markdown",
      "metadata": {
        "id": "YKnEMklgEu6C"
      },
      "source": [
        "chunking simple: cada worker toma los índices i, i+n_workers, i+2*n_workers, …"
      ]
    },
    {
      "cell_type": "code",
      "execution_count": 9,
      "metadata": {
        "colab": {
          "base_uri": "https://localhost:8080/"
        },
        "id": "sGvqQ5usEvhF",
        "outputId": "6145f4bc-82f7-46be-f4d8-ac7936bb3859"
      },
      "outputs": [
        {
          "name": "stdout",
          "output_type": "stream",
          "text": [
            "Worker 0: procesará 245 imágenes\n",
            "Worker 1: procesará 245 imágenes\n",
            "Worker 2: procesará 245 imágenes\n",
            "Worker 3: procesará 245 imágenes\n",
            "Worker 4: procesará 245 imágenes\n",
            "Worker 5: procesará 245 imágenes\n",
            "Worker 6: procesará 245 imágenes\n",
            "Worker 7: procesará 245 imágenes\n",
            "Worker 8: procesará 245 imágenes\n",
            "Worker 9: procesará 245 imágenes\n",
            "Worker 10: procesará 244 imágenes\n",
            "Worker 11: procesará 244 imágenes\n",
            "Worker 12: procesará 244 imágenes\n",
            "Worker 13: procesará 244 imágenes\n",
            "Worker 14: procesará 244 imágenes\n"
          ]
        }
      ],
      "source": [
        "image_chunks = [images[i::n_workers] for i in range(n_workers)]\n",
        "label_chunks = [labels[i::n_workers] for i in range(n_workers)]\n",
        "\n",
        "for i, chunk in enumerate(image_chunks):\n",
        "    print(f\"Worker {i}: procesará {len(chunk)} imágenes\")"
      ]
    },
    {
      "cell_type": "markdown",
      "metadata": {},
      "source": [
        "### Descargar las imagenes en una ruta local"
      ]
    },
    {
      "cell_type": "code",
      "execution_count": null,
      "metadata": {},
      "outputs": [
        {
          "name": "stdout",
          "output_type": "stream",
          "text": [
            "0 imágenes guardadas...\n",
            "500 imágenes guardadas...\n",
            "1000 imágenes guardadas...\n",
            "1500 imágenes guardadas...\n",
            "2000 imágenes guardadas...\n",
            "2500 imágenes guardadas...\n",
            "3000 imágenes guardadas...\n",
            "3500 imágenes guardadas...\n",
            "✅ Dataset guardado en: C:\\Users\\dtellezn2200\\OneDrive - Instituto Politecnico Nacional\\Documents\\Diego\\Computo paralelo\\Preprocesamiento paralelo VGG\\dataset\n"
          ]
        }
      ],
      "source": [
        "import tensorflow_datasets as tfds\n",
        "import os\n",
        "from PIL import Image\n",
        "\n",
        "#ruta de destino local\n",
        "destino = r\"C:\\Users\\dtellezn2200\\OneDrive - Instituto Politecnico Nacional\\Documents\\Diego\\Computo paralelo\\Preprocesamiento paralelo VGG\\dataset\"\n",
        "\n",
        "#descargar el dataset\n",
        "ds, info = tfds.load(\"tf_flowers\", split=\"train\", with_info=True, as_supervised=True)\n",
        "\n",
        "#guardar imágenes organizadas por clase\n",
        "for i, (img, label) in enumerate(tfds.as_numpy(ds)):\n",
        "    clase = info.features['label'].int2str(label)\n",
        "    carpeta_clase = os.path.join(destino, clase)\n",
        "    os.makedirs(carpeta_clase, exist_ok=True)\n",
        "\n",
        "    ruta_img = os.path.join(carpeta_clase, f\"{i:05d}.jpg\")\n",
        "    Image.fromarray(img).save(ruta_img)\n",
        "\n",
        "    if i % 500 == 0:\n",
        "        print(f\"{i} imágenes guardadas...\")\n",
        "\n",
        "print(\"✅ Dataset guardado en:\", destino)"
      ]
    },
    {
      "cell_type": "code",
      "execution_count": null,
      "metadata": {
        "id": "VXomXnoLIfhV"
      },
      "outputs": [
        {
          "name": "stdout",
          "output_type": "stream",
          "text": [
            "Total de imágenes encontradas: 3670\n",
            "Primeras 5 rutas: ['C:\\\\Users\\\\dtellezn2200\\\\OneDrive - Instituto Politecnico Nacional\\\\Documents\\\\Diego\\\\Computo paralelo\\\\Preprocesamiento paralelo VGG\\\\dataset\\\\daisy\\\\00009.jpg', 'C:\\\\Users\\\\dtellezn2200\\\\OneDrive - Instituto Politecnico Nacional\\\\Documents\\\\Diego\\\\Computo paralelo\\\\Preprocesamiento paralelo VGG\\\\dataset\\\\daisy\\\\00013.jpg', 'C:\\\\Users\\\\dtellezn2200\\\\OneDrive - Instituto Politecnico Nacional\\\\Documents\\\\Diego\\\\Computo paralelo\\\\Preprocesamiento paralelo VGG\\\\dataset\\\\daisy\\\\00015.jpg', 'C:\\\\Users\\\\dtellezn2200\\\\OneDrive - Instituto Politecnico Nacional\\\\Documents\\\\Diego\\\\Computo paralelo\\\\Preprocesamiento paralelo VGG\\\\dataset\\\\daisy\\\\00016.jpg', 'C:\\\\Users\\\\dtellezn2200\\\\OneDrive - Instituto Politecnico Nacional\\\\Documents\\\\Diego\\\\Computo paralelo\\\\Preprocesamiento paralelo VGG\\\\dataset\\\\daisy\\\\00024.jpg']\n"
          ]
        }
      ],
      "source": [
        "import glob\n",
        "\n",
        "#ruta base\n",
        "dataset_path = r\"C:\\Users\\dtellezn2200\\OneDrive - Instituto Politecnico Nacional\\Documents\\Diego\\Computo paralelo\\Preprocesamiento paralelo VGG\\dataset\"\n",
        "\n",
        "#buscar imágenes\n",
        "image_paths = glob.glob(fr\"{dataset_path}\\**\\*.jpg\", recursive=True)\n",
        "\n",
        "print(f\"Total de imágenes encontradas: {len(image_paths)}\")\n",
        "print(\"Primeras 5 rutas:\", image_paths[:5])\n"
      ]
    },
    {
      "cell_type": "markdown",
      "metadata": {
        "id": "h4LKqEcbHTbG"
      },
      "source": [
        "# Preprocesamiento de imagenes en paralelo"
      ]
    },
    {
      "cell_type": "markdown",
      "metadata": {
        "id": "KL05pMtQHpdD"
      },
      "source": [
        "### Librerías"
      ]
    },
    {
      "cell_type": "code",
      "execution_count": 12,
      "metadata": {
        "id": "KNlKEVaZHtRh"
      },
      "outputs": [],
      "source": [
        "import os\n",
        "import numpy as np\n",
        "from PIL import Image\n",
        "from pathlib import Path\n",
        "from multiprocessing import Pool, cpu_count"
      ]
    },
    {
      "cell_type": "markdown",
      "metadata": {},
      "source": [
        "### Parámetros"
      ]
    },
    {
      "cell_type": "code",
      "execution_count": 13,
      "metadata": {},
      "outputs": [],
      "source": [
        "TARGET_SIZE = (224, 224)\n",
        "MEAN = np.array([123.68, 116.779, 103.939])\n",
        "INPUT_DIR = \"dataset/\"\n",
        "OUTPUT_DIR = \"output/\"\n",
        "os.makedirs(OUTPUT_DIR, exist_ok=True)"
      ]
    },
    {
      "cell_type": "markdown",
      "metadata": {
        "id": "xfAxawQgH4XZ"
      },
      "source": [
        "### Función de preprocesamiento para una imagen"
      ]
    },
    {
      "cell_type": "code",
      "execution_count": 14,
      "metadata": {
        "id": "yain32PuH_AX"
      },
      "outputs": [],
      "source": [
        "def preprocess_image(img_path):\n",
        "    try:\n",
        "        img = Image.open(img_path).convert('RGB')\n",
        "        img = img.resize(TARGET_SIZE)\n",
        "        img_array = np.array(img).astype(np.float32)\n",
        "        img_array -= MEAN\n",
        "        return img_array\n",
        "    except Exception as e:\n",
        "        print(f\"Error con {img_path}: {e}\")\n",
        "        return None"
      ]
    },
    {
      "cell_type": "markdown",
      "metadata": {},
      "source": [
        "### Versión paralela"
      ]
    },
    {
      "cell_type": "code",
      "execution_count": 15,
      "metadata": {},
      "outputs": [],
      "source": [
        "def preprocess_and_pair(img_path):\n",
        "    arr = preprocess_image(img_path)\n",
        "    return (arr, img_path) if arr is not None else None\n",
        "\n",
        "def process_parallel(image_paths):\n",
        "    with Pool(cpu_count()) as pool:\n",
        "        results = pool.map(preprocess_and_pair, image_paths)\n",
        "    return [r for r in results if r is not None]"
      ]
    },
    {
      "cell_type": "markdown",
      "metadata": {},
      "source": [
        "### Función para guardar"
      ]
    },
    {
      "cell_type": "code",
      "execution_count": 16,
      "metadata": {},
      "outputs": [],
      "source": [
        "def save_processed_images(processed_list):\n",
        "    for arr, original_path in processed_list:\n",
        "        restored = np.clip(arr + MEAN, 0, 255).astype(np.uint8)\n",
        "        Image.fromarray(restored).save(os.path.join(OUTPUT_DIR, os.path.basename(original_path)))\n"
      ]
    },
    {
      "cell_type": "markdown",
      "metadata": {},
      "source": [
        "### Cargar rutas"
      ]
    },
    {
      "cell_type": "code",
      "execution_count": 17,
      "metadata": {},
      "outputs": [],
      "source": [
        "def load_image_paths(directory):\n",
        "    return list(Path(directory).rglob(\"*.jpg\"))"
      ]
    },
    {
      "cell_type": "markdown",
      "metadata": {},
      "source": [
        "### Función principal"
      ]
    },
    {
      "cell_type": "code",
      "execution_count": null,
      "metadata": {},
      "outputs": [],
      "source": [
        "from tqdm import tqdm\n",
        "\n",
        "if __name__ == \"__main__\":\n",
        "    image_paths = load_image_paths(INPUT_DIR)\n",
        "    \n",
        "    processed = list(tqdm(process_parallel(image_paths), total=len(image_paths), desc=\"Progreso\"))\n",
        "    \n",
        "    save_processed_images(processed)"
      ]
    },
    {
      "cell_type": "markdown",
      "metadata": {},
      "source": [
        "# Medición y análisis comparativo"
      ]
    },
    {
      "cell_type": "markdown",
      "metadata": {},
      "source": [
        "### Librerías"
      ]
    },
    {
      "cell_type": "code",
      "execution_count": null,
      "metadata": {},
      "outputs": [],
      "source": [
        "import time\n",
        "import psutil\n",
        "import multiprocessing\n",
        "import matplotlib.pyplot as plt"
      ]
    },
    {
      "cell_type": "markdown",
      "metadata": {},
      "source": [
        "### Función secuencial"
      ]
    },
    {
      "cell_type": "code",
      "execution_count": null,
      "metadata": {},
      "outputs": [],
      "source": [
        "def funcion_secuencial(imagenes, funcion_preprocesamiento):\n",
        "    inicio = time.time()\n",
        "    for img in imágenes:\n",
        "        funcion_preprocesamiento(img)\n",
        "    fin = time.time()\n",
        "    return fin - inicio"
      ]
    },
    {
      "cell_type": "markdown",
      "metadata": {},
      "source": [
        "### Función paralela"
      ]
    },
    {
      "cell_type": "code",
      "execution_count": null,
      "metadata": {},
      "outputs": [],
      "source": [
        "def funcion_paralela(imagenes, funcion_preprocesamiento, num_procesos):\n",
        "    inicio = time.time()\n",
        "    with multiprocessing.Pool(num_procesos) as pool:\n",
        "        pool.map(funcion_preprocesamiento, imágenes)\n",
        "    fin = time.time()\n",
        "    return fin - inicio"
      ]
    },
    {
      "cell_type": "markdown",
      "metadata": {},
      "source": [
        "### Tiempo y medición de CPU secuencial"
      ]
    },
    {
      "cell_type": "code",
      "execution_count": null,
      "metadata": {},
      "outputs": [],
      "source": [
        "tiempo_seq = funcion_secuencial(imagenes, preprocess_image)\n",
        "uso_cpu_seq = medir_uso_cpu(tiempo_seq)"
      ]
    },
    {
      "cell_type": "markdown",
      "metadata": {},
      "source": [
        "### Tiempo y medición de CPU en paralelo"
      ]
    },
    {
      "cell_type": "code",
      "execution_count": null,
      "metadata": {},
      "outputs": [],
      "source": [
        "tiempo_par = funcion_paralela(imagenes, preprocess_image, num_procesos=multiprocessing.cpu_count())\n",
        "uso_cpu_par = medir_uso_cpu(tiempo_par)"
      ]
    },
    {
      "cell_type": "markdown",
      "metadata": {},
      "source": [
        "### Medir uso de CPU"
      ]
    },
    {
      "cell_type": "code",
      "execution_count": null,
      "metadata": {},
      "outputs": [],
      "source": [
        "def medir_uso_cpu(duracion, intervalo=0.1):\n",
        "    uso = []\n",
        "    for _ in range(int(duracion / intervalo)):\n",
        "        uso.append(psutil.cpu_percent(interval=intervalo))\n",
        "    return uso"
      ]
    },
    {
      "cell_type": "markdown",
      "metadata": {},
      "source": [
        "### Speedup"
      ]
    },
    {
      "cell_type": "code",
      "execution_count": null,
      "metadata": {},
      "outputs": [],
      "source": [
        "speedup = tiempo_seq / tiempo_par\n",
        "print(f\"Speedup: {speedup:.2f}\")"
      ]
    },
    {
      "cell_type": "markdown",
      "metadata": {},
      "source": [
        "### Visualización de resultados"
      ]
    },
    {
      "cell_type": "code",
      "execution_count": null,
      "metadata": {},
      "outputs": [],
      "source": [
        "plt.figure(figsize=(12, 5))"
      ]
    },
    {
      "cell_type": "markdown",
      "metadata": {},
      "source": [
        "Uso de CPU"
      ]
    },
    {
      "cell_type": "code",
      "execution_count": null,
      "metadata": {},
      "outputs": [],
      "source": [
        "plt.subplot(1, 2, 1)\n",
        "plt.plot(uso_cpu_seq, label=\"Secuencial\")\n",
        "plt.plot(uso_cpu_par, label=\"Paralelo\")\n",
        "plt.title(\"Uso de CPU durante ejecución\")\n",
        "plt.xlabel(\"Tiempo (intervalos)\")\n",
        "plt.ylabel(\"Uso de CPU (%)\")\n",
        "plt.legend()"
      ]
    },
    {
      "cell_type": "markdown",
      "metadata": {},
      "source": [
        "Tiempo total"
      ]
    },
    {
      "cell_type": "code",
      "execution_count": null,
      "metadata": {},
      "outputs": [],
      "source": [
        "plt.subplot(1, 2, 2)\n",
        "plt.bar([\"Secuencial\", \"Paralelo\"], [tiempo_seq, tiempo_par])\n",
        "plt.title(\"Comparación de tiempo total\")\n",
        "plt.ylabel(\"Tiempo (s)\")\n",
        "\n",
        "plt.tight_layout()\n",
        "plt.show()"
      ]
    }
  ],
  "metadata": {
    "accelerator": "GPU",
    "colab": {
      "gpuType": "T4",
      "provenance": []
    },
    "kernelspec": {
      "display_name": "Python 3",
      "name": "python3"
    },
    "language_info": {
      "codemirror_mode": {
        "name": "ipython",
        "version": 3
      },
      "file_extension": ".py",
      "mimetype": "text/x-python",
      "name": "python",
      "nbconvert_exporter": "python",
      "pygments_lexer": "ipython3",
      "version": "3.12.6"
    }
  },
  "nbformat": 4,
  "nbformat_minor": 0
}
