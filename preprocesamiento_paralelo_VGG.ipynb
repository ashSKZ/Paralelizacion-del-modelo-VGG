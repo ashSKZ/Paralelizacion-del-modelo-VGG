{
  "cells": [
    {
      "cell_type": "markdown",
      "metadata": {
        "id": "h4LKqEcbHTbG"
      },
      "source": [
        "# Preprocesamiento de imagenes en paralelo"
      ]
    },
    {
      "cell_type": "markdown",
      "metadata": {
        "id": "KL05pMtQHpdD"
      },
      "source": [
        "### Librerías"
      ]
    },
    {
      "cell_type": "code",
      "execution_count": null,
      "metadata": {
        "id": "KNlKEVaZHtRh"
      },
      "outputs": [],
      "source": [
        "import os\n",
        "import numpy as np\n",
        "import time\n",
        "from PIL import Image\n",
        "from pathlib import Path\n",
        "from multiprocessing import Pool, cpu_count\n",
        "from tqdm import tqdm"
      ]
    },
    {
      "cell_type": "markdown",
      "metadata": {},
      "source": [
        "### Parámetros"
      ]
    },
    {
      "cell_type": "code",
      "execution_count": null,
      "metadata": {},
      "outputs": [],
      "source": [
        "BATCH_SIZE = 200\n",
        "TARGET_SIZE = (224, 224)\n",
        "MEAN = np.array([0.485, 0.456, 0.406])\n",
        "STD = np.array([0.229, 0.224, 0.225])\n",
        "INPUT_DIR = \"/home/jiu/Documents/School IPN/Sexto Semester/Computo Paralelo/Segundo Dpto/Proyecto - Final de Dpto/ImageNet/ILSVRC/Data/CLS-LOC\"\n",
        "OUTPUT_DIR = \"output/\"\n",
        "os.makedirs(OUTPUT_DIR, exist_ok=True)"
      ]
    },
    {
      "cell_type": "markdown",
      "metadata": {
        "id": "xfAxawQgH4XZ"
      },
      "source": [
        "### Función de preprocesamiento para una imagen"
      ]
    },
    {
      "cell_type": "code",
      "execution_count": null,
      "metadata": {
        "id": "yain32PuH_AX"
      },
      "outputs": [],
      "source": [
        "def preprocess_image(img_path):\n",
        "    try:\n",
        "        img = Image.open(img_path).convert('RGB')\n",
        "        img = img.resize(TARGET_SIZE)\n",
        "        img_array = np.array(img).astype(np.float32) / 255.0\n",
        "        img_array = (img_array - MEAN) / STD\n",
        "        img_array = img_array.transpose(2, 0, 1)\n",
        "        #print(\"Imagen Procesada\")   \n",
        "        return (img_array, img_path)\n",
        "    except Exception as e:\n",
        "        print(f\"Error con {img_path}: {e}\")\n",
        "        return None"
      ]
    },
    {
      "cell_type": "markdown",
      "metadata": {},
      "source": [
        "### Versión paralela"
      ]
    },
    {
      "cell_type": "code",
      "execution_count": null,
      "metadata": {},
      "outputs": [],
      "source": [
        "def save_preprocessed_image(arrays_path_pairs):\n",
        "    for arr, img_path in arrays_path_pairs:\n",
        "        rel_path = Path(img_path).relative_to(INPUT_DIR)\n",
        "        new_path = Path(OUTPUT_DIR) / rel_path.with_suffix('.npy')\n",
        "        new_path.parent.mkdir(parents=True, exist_ok=True)\n",
        "        np.save(new_path, arr)"
      ]
    },
    {
      "cell_type": "markdown",
      "metadata": {},
      "source": [
        "### Función para guardar"
      ]
    },
    {
      "cell_type": "code",
      "execution_count": null,
      "metadata": {},
      "outputs": [],
      "source": [
        "def save_preprocessed_image(arrays_path_pairs):\n",
        "    for arr, img_path in arrays_path_pairs:\n",
        "        rel_path = Path(img_path).relative_to(INPUT_DIR)\n",
        "        new_path = Path(OUTPUT_DIR) / rel_path.with_suffix('.npy')\n",
        "        new_path.parent.mkdir(parents=True, exist_ok=True)\n",
        "        np.save(new_path, arr)"
      ]
    },
    {
      "cell_type": "markdown",
      "metadata": {},
      "source": [
        "### Cargar rutas"
      ]
    },
    {
      "cell_type": "code",
      "execution_count": null,
      "metadata": {},
      "outputs": [],
      "source": [
        "def load_image_paths(directory):\n",
        "    return list(Path(directory).rglob(\"*.JPEG\"))"
      ]
    },
    {
      "cell_type": "markdown",
      "metadata": {},
      "source": [
        "### Función principal"
      ]
    },
    {
      "cell_type": "code",
      "execution_count": null,
      "metadata": {},
      "outputs": [],
      "source": [
        "\n",
        "if __name__ == \"__main__\":\n",
        "    execution_time = 0\n",
        "    i = 0\n",
        "    image_paths = load_image_paths(INPUT_DIR)\n",
        "    total_images = len(image_paths)\n",
        "    start_time = time.time()\n",
        "    with Pool(1) as pool:\n",
        "        for i in range(0, total_images, BATCH_SIZE):\n",
        "            batch_paths = image_paths[i:i + BATCH_SIZE]\n",
        "            for result in tqdm(pool.imap_unordered(preprocess_image, batch_paths), total=len(batch_paths), desc=f\"Batch {i//BATCH_SIZE + 1}\"):\n",
        "                #if result is not None:\n",
        "                #    save_preprocessed_image([result])\n",
        "                pass\n",
        "    final_time = time.time()\n",
        "    execution_time = final_time - start_time "
      ]
    },
    {
      "cell_type": "markdown",
      "metadata": {},
      "source": [
        "# Medición y análisis comparativo"
      ]
    },
    {
      "cell_type": "markdown",
      "metadata": {},
      "source": [
        "### Librerías"
      ]
    },
    {
      "cell_type": "code",
      "execution_count": null,
      "metadata": {},
      "outputs": [],
      "source": [
        "import time\n",
        "import psutil\n",
        "import multiprocessing\n",
        "import matplotlib.pyplot as plt"
      ]
    },
    {
      "cell_type": "markdown",
      "metadata": {},
      "source": [
        "### Función secuencial"
      ]
    },
    {
      "cell_type": "code",
      "execution_count": null,
      "metadata": {},
      "outputs": [],
      "source": [
        "def funcion_secuencial(imagenes, funcion_preprocesamiento):\n",
        "    inicio = time.time()\n",
        "    for img in imágenes:\n",
        "        funcion_preprocesamiento(img)\n",
        "    fin = time.time()\n",
        "    return fin - inicio"
      ]
    },
    {
      "cell_type": "markdown",
      "metadata": {},
      "source": [
        "### Función paralela"
      ]
    },
    {
      "cell_type": "code",
      "execution_count": null,
      "metadata": {},
      "outputs": [],
      "source": [
        "def funcion_paralela(imagenes, funcion_preprocesamiento, num_procesos):\n",
        "    inicio = time.time()\n",
        "    with multiprocessing.Pool(num_procesos) as pool:\n",
        "        pool.map(funcion_preprocesamiento, imágenes)\n",
        "    fin = time.time()\n",
        "    return fin - inicio"
      ]
    },
    {
      "cell_type": "markdown",
      "metadata": {},
      "source": [
        "### Tiempo y medición de CPU secuencial"
      ]
    },
    {
      "cell_type": "code",
      "execution_count": null,
      "metadata": {},
      "outputs": [],
      "source": [
        "tiempo_seq = funcion_secuencial(imagenes, preprocess_image)\n",
        "uso_cpu_seq = medir_uso_cpu(tiempo_seq)"
      ]
    },
    {
      "cell_type": "markdown",
      "metadata": {},
      "source": [
        "### Tiempo y medición de CPU en paralelo"
      ]
    },
    {
      "cell_type": "code",
      "execution_count": null,
      "metadata": {},
      "outputs": [],
      "source": [
        "tiempo_par = funcion_paralela(imagenes, preprocess_image, num_procesos=multiprocessing.cpu_count())\n",
        "uso_cpu_par = medir_uso_cpu(tiempo_par)"
      ]
    },
    {
      "cell_type": "markdown",
      "metadata": {},
      "source": [
        "### Medir uso de CPU"
      ]
    },
    {
      "cell_type": "code",
      "execution_count": null,
      "metadata": {},
      "outputs": [],
      "source": [
        "def medir_uso_cpu(duracion, intervalo=0.1):\n",
        "    uso = []\n",
        "    for _ in range(int(duracion / intervalo)):\n",
        "        uso.append(psutil.cpu_percent(interval=intervalo))\n",
        "    return uso"
      ]
    },
    {
      "cell_type": "markdown",
      "metadata": {},
      "source": [
        "### Speedup"
      ]
    },
    {
      "cell_type": "code",
      "execution_count": null,
      "metadata": {},
      "outputs": [],
      "source": [
        "speedup = tiempo_seq / tiempo_par\n",
        "print(f\"Speedup: {speedup:.2f}\")"
      ]
    },
    {
      "cell_type": "markdown",
      "metadata": {},
      "source": [
        "### Visualización de resultados"
      ]
    },
    {
      "cell_type": "code",
      "execution_count": null,
      "metadata": {},
      "outputs": [],
      "source": [
        "plt.figure(figsize=(12, 5))"
      ]
    },
    {
      "cell_type": "markdown",
      "metadata": {},
      "source": [
        "Uso de CPU"
      ]
    },
    {
      "cell_type": "code",
      "execution_count": null,
      "metadata": {},
      "outputs": [],
      "source": [
        "plt.subplot(1, 2, 1)\n",
        "plt.plot(uso_cpu_seq, label=\"Secuencial\")\n",
        "plt.plot(uso_cpu_par, label=\"Paralelo\")\n",
        "plt.title(\"Uso de CPU durante ejecución\")\n",
        "plt.xlabel(\"Tiempo (intervalos)\")\n",
        "plt.ylabel(\"Uso de CPU (%)\")\n",
        "plt.legend()"
      ]
    },
    {
      "cell_type": "markdown",
      "metadata": {},
      "source": [
        "Tiempo total"
      ]
    },
    {
      "cell_type": "code",
      "execution_count": null,
      "metadata": {},
      "outputs": [],
      "source": [
        "plt.subplot(1, 2, 2)\n",
        "plt.bar([\"Secuencial\", \"Paralelo\"], [tiempo_seq, tiempo_par])\n",
        "plt.title(\"Comparación de tiempo total\")\n",
        "plt.ylabel(\"Tiempo (s)\")\n",
        "\n",
        "plt.tight_layout()\n",
        "plt.show()"
      ]
    }
  ],
  "metadata": {
    "accelerator": "GPU",
    "colab": {
      "gpuType": "T4",
      "provenance": []
    },
    "kernelspec": {
      "display_name": "Python 3",
      "name": "python3"
    },
    "language_info": {
      "codemirror_mode": {
        "name": "ipython",
        "version": 3
      },
      "file_extension": ".py",
      "mimetype": "text/x-python",
      "name": "python",
      "nbconvert_exporter": "python",
      "pygments_lexer": "ipython3",
      "version": "3.12.6"
    }
  },
  "nbformat": 4,
  "nbformat_minor": 0
}
